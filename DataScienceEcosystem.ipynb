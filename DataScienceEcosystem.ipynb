{
 "cells": [
  {
   "cell_type": "markdown",
   "id": "5fef0821-5da7-4e0e-8ce7-88b07610dd88",
   "metadata": {
    "tags": []
   },
   "source": [
    "<h1>Data Science Tools and Ecosystem</h1>\n",
    "In this notebook, Data Science Tools and Ecosystem are summarized.</br>\n",
    "\n",
    "\n",
    "<h2> Author </h2>\n",
    "Cameron Mundle\n",
    "\n",
    "</br></br>\n",
    "**Objectives:**\n",
    "<ul>\n",
    "<li>List popular languages for Data Science</li>\n",
    "<li>List popular libraries for Data Science</li>\n",
    "<li>Perform mathematical operations</li>\n",
    "</ul>\n",
    "\n",
    "\n",
    "\n",
    "Some of the popular languages that Data Scientists use are:\n",
    "<ol>\n",
    "<li>R</li>\n",
    "<li>Python</li>\n",
    "<li>SQL</li>\n",
    "</ol>\n",
    "\n",
    "Some of the commonly used libraries used by Data Scientists include:\n",
    "<ol>\n",
    "<li>Pandas</li>\n",
    "<li>NumPy</li>\n",
    "<li>PyTorch</li>\n",
    "</ol>\n",
    "\n",
    "\n",
    "<table>\n",
    "<tr>\n",
    "    <th>\n",
    "        Data Science Tools\n",
    "    </th>\n",
    "</tr>\n",
    "<tr>\n",
    "<td>JupyterNotebook</td>\n",
    "</tr>\n",
    "<tr>\n",
    "<td>RStudio</td>\n",
    "</tr>\n",
    "    <tr>\n",
    "<td>Spyder</td>\n",
    "</tr>\n",
    "    \n",
    " </table>\n",
    " \n",
    " \n",
    " <h3>Below are a few examples of evaluating arithmetic expressions in Python.</h3>\n"
   ]
  },
  {
   "cell_type": "code",
   "execution_count": 14,
   "id": "d6f55b48-15de-4892-8bbf-74f78bd2658d",
   "metadata": {
    "tags": []
   },
   "outputs": [],
   "source": [
    "# This a simple arithmetic expression to mutiply then add integers"
   ]
  },
  {
   "cell_type": "code",
   "execution_count": 15,
   "id": "d1485999-c5e0-4852-87c0-4fd579d6fc17",
   "metadata": {
    "tags": []
   },
   "outputs": [
    {
     "data": {
      "text/plain": [
       "17"
      ]
     },
     "execution_count": 15,
     "metadata": {},
     "output_type": "execute_result"
    }
   ],
   "source": [
    "(3*4)+5"
   ]
  },
  {
   "cell_type": "code",
   "execution_count": 17,
   "id": "d73c22df-9b0a-49a9-8316-5307d2bc883b",
   "metadata": {
    "tags": []
   },
   "outputs": [],
   "source": [
    "# This will convert 200 minutes to hours by diving by 60"
   ]
  },
  {
   "cell_type": "code",
   "execution_count": 18,
   "id": "37e07509-7774-47f8-895b-d63097990b4e",
   "metadata": {
    "tags": []
   },
   "outputs": [
    {
     "data": {
      "text/plain": [
       "3.3333333333333335"
      ]
     },
     "execution_count": 18,
     "metadata": {},
     "output_type": "execute_result"
    }
   ],
   "source": [
    "200 / 60"
   ]
  },
  {
   "cell_type": "code",
   "execution_count": null,
   "id": "6767e91c-ab09-4c74-8cfb-ddea26f0cb7f",
   "metadata": {},
   "outputs": [],
   "source": []
  }
 ],
 "metadata": {
  "kernelspec": {
   "display_name": "Python",
   "language": "python",
   "name": "conda-env-python-py"
  },
  "language_info": {
   "codemirror_mode": {
    "name": "ipython",
    "version": 3
   },
   "file_extension": ".py",
   "mimetype": "text/x-python",
   "name": "python",
   "nbconvert_exporter": "python",
   "pygments_lexer": "ipython3",
   "version": "3.7.12"
  }
 },
 "nbformat": 4,
 "nbformat_minor": 5
}
